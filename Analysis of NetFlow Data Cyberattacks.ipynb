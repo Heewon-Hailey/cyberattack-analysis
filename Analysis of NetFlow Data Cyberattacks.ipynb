{
 "cells": [
  {
   "cell_type": "markdown",
   "metadata": {},
   "source": [
    "Author: Hailey Kim \n",
    "\n",
    "Purpose: implement of machine learning models to detect cyberattacks from NetFlow data"
   ]
  },
  {
   "cell_type": "code",
   "execution_count": 2,
   "metadata": {},
   "outputs": [],
   "source": [
    "import pandas as pd\n",
    "import numpy as np\n",
    "\n",
    "# for preprocessing and feature engineering\n",
    "from sklearn.preprocessing import Normalizer, StandardScaler\n",
    "from sklearn.decomposition import PCA\n",
    "\n",
    "# for model implementation\n",
    "from sklearn.ensemble import IsolationForest\n",
    "from pyod.models.cblof import CBLOF\n",
    "\n",
    "# for model validation\n",
    "from sklearn.metrics import classification_report\n",
    "from sklearn.metrics import confusion_matrix\n",
    "from sklearn.metrics import recall_score\n",
    "from sklearn.metrics import roc_auc_score\n",
    "\n",
    "# for code processing\n",
    "import datetime\n",
    "import itertools\n",
    "from tqdm import tqdm\n",
    "\n",
    "# for data visulization\n",
    "import seaborn as sns\n",
    "import matplotlib.pyplot as plt\n",
    "\n",
    "# ignore all future warnings\n",
    "from warnings import simplefilter\n",
    "simplefilter(action='ignore', category=FutureWarning)"
   ]
  },
  {
   "cell_type": "markdown",
   "metadata": {},
   "source": [
    "# Data File Load"
   ]
  },
  {
   "cell_type": "code",
   "execution_count": 3,
   "metadata": {},
   "outputs": [
    {
     "name": "stderr",
     "output_type": "stream",
     "text": [
      "/usr/local/easybuild-2019/easybuild/software/mpi/gcc/8.3.0/openmpi/3.1.4/jupyter/1.0.0-python-3.7.4/lib/python3.7/site-packages/IPython/core/interactiveshell.py:3063: DtypeWarning: Columns (4,7) have mixed types.Specify dtype option on import or set low_memory=False.\n",
      "  interactivity=interactivity, compiler=compiler, result=result)\n"
     ]
    }
   ],
   "source": [
    "train = pd.read_csv(\"training_data.csv\", sep = ',', header = None)\n",
    "valid = pd.read_csv(\"valid_data_label.csv\", sep = ',', header = None)\n",
    "test = pd.read_csv(\"test_data.csv\", sep = ',', header = None)\n"
   ]
  },
  {
   "cell_type": "code",
   "execution_count": 4,
   "metadata": {},
   "outputs": [],
   "source": [
    "valid_columns = ['time', 'dur', 'protocol', 'src_ip', 'src_port', 'dir', \\\n",
    "          'dst_ip', 'dst_port', 'state', 'src_tser', 'dst_tser', \\\n",
    "          'packets', 'bytes_both', 'bytes_src', 'label']\n",
    "\n",
    "data_columns= ['time', 'dur', 'protocol', 'src_ip', 'src_port', 'dir', \\\n",
    "          'dst_ip', 'dst_port', 'state', 'src_tser', 'dst_tser', \\\n",
    "          'packets', 'bytes_both', 'bytes_src']\n",
    "\n",
    "valid.columns = valid_columns\n",
    "train.columns, test.columns = data_columns, data_columns"
   ]
  },
  {
   "cell_type": "markdown",
   "metadata": {},
   "source": [
    "# Data Cleaning"
   ]
  },
  {
   "cell_type": "code",
   "execution_count": 5,
   "metadata": {},
   "outputs": [],
   "source": [
    "# convert the labels into -1 or 1 , if it is botnet attack (-1), otherwise benign(1)\n",
    "keyword = \"Botnet\"\n",
    "valid['label'] = [-1 if (keyword in x) else 1 for x in valid['label'] ]\n",
    "\n",
    "# separate label from valid data\n",
    "valid_label = valid.label\n",
    "valid = valid.iloc[:,:-1]"
   ]
  },
  {
   "cell_type": "code",
   "execution_count": 6,
   "metadata": {},
   "outputs": [],
   "source": [
    "# concatenate datasets to process \n",
    "all_data = pd.concat([train, valid, test], axis = 0, ignore_index = True)"
   ]
  },
  {
   "cell_type": "code",
   "execution_count": 7,
   "metadata": {},
   "outputs": [],
   "source": [
    "# replace missing values with '-1'\n",
    "all_data.fillna('-1', inplace = True)"
   ]
  },
  {
   "cell_type": "code",
   "execution_count": 8,
   "metadata": {},
   "outputs": [],
   "source": [
    "string_list = []\n",
    "numeric_list = []\n",
    "\n",
    "# convert to string type\n",
    "for column in all_data.columns:\n",
    "    if all_data[column].dtype == \"object\" : \n",
    "        all_data[column] = all_data[column].apply(lambda x : str(x))\n",
    "        string_list.append(column)\n",
    "    else :\n",
    "        numeric_list.append(column)\n",
    "\n",
    "#convert hexadecimal, float, string format in port features to integer based 10\n",
    "ports = ['src_port', 'dst_port']\n",
    "for port in ports:\n",
    "    all_data[port] = all_data[port].apply(lambda x : x.split('.')[0])\n",
    "    all_data[port] = all_data[port].apply(lambda x : int(x,0))"
   ]
  },
  {
   "cell_type": "code",
   "execution_count": 9,
   "metadata": {},
   "outputs": [],
   "source": [
    "# separate datasets\n",
    "index_train = len(train)\n",
    "index_valid = index_train + len(valid)\n",
    "index_test = index_valid + len(test)\n",
    "\n",
    "tra = all_data.iloc[0: index_train]\n",
    "val = all_data.iloc[index_train: index_valid]  # training \n",
    "tst = all_data.iloc[index_valid:]     # tst set"
   ]
  },
  {
   "cell_type": "markdown",
   "metadata": {},
   "source": [
    "# Feature Engineering "
   ]
  },
  {
   "cell_type": "markdown",
   "metadata": {},
   "source": [
    ">Method A - PCA on numerical values "
   ]
  },
  {
   "cell_type": "code",
   "execution_count": 10,
   "metadata": {},
   "outputs": [],
   "source": [
    "# extract numerical attributes\n",
    "methodA_tra= tra[numeric_list]\n",
    "methodA_tst = tst[numeric_list]\n",
    "methodA_val = val[numeric_list]"
   ]
  },
  {
   "cell_type": "code",
   "execution_count": 11,
   "metadata": {},
   "outputs": [],
   "source": [
    "# normalize values per row\n",
    "normalizer = Normalizer()\n",
    "methodA_tra = normalizer.fit_transform(methodA_tra) \n",
    "methodA_val = normalizer.transform(methodA_val) \n",
    "methodA_tst = normalizer.transform(methodA_tst)"
   ]
  },
  {
   "cell_type": "code",
   "execution_count": 12,
   "metadata": {},
   "outputs": [],
   "source": [
    "# rescale by using StandardScaler\n",
    "scaler1 = StandardScaler()\n",
    "methodA_tra = scaler1.fit_transform(methodA_tra) \n",
    "methodA_val = scaler1.transform(methodA_val) \n",
    "methodA_tst = scaler1.transform(methodA_tst)"
   ]
  },
  {
   "cell_type": "code",
   "execution_count": 13,
   "metadata": {},
   "outputs": [],
   "source": [
    "# features for IF algorithm\n",
    "methodA_tra_if = methodA_tra.copy()\n",
    "methodA_val_if = methodA_val.copy()\n",
    "methodA_tst_if = methodA_tst.copy()"
   ]
  },
  {
   "cell_type": "code",
   "execution_count": 27,
   "metadata": {},
   "outputs": [
    {
     "name": "stdout",
     "output_type": "stream",
     "text": [
      "best d : 3\n"
     ]
    }
   ],
   "source": [
    "# reduce dimensionality PCA\n",
    "pca1 = PCA()\n",
    "pca1.fit(methodA_tra)\n",
    "# pca1.fit(methodA_tandv)\n",
    "cumsum = np.cumsum(pca1.explained_variance_ratio_)\n",
    "pca1_d = np.argmax(cumsum >=0.95) + 1               # find the best dimensionality parameter\n",
    "print(\"best d :\", pca1_d)\n",
    "pca1 = PCA(n_components = pca1_d)\n",
    "methodA_tra = pca1.fit_transform(methodA_tra)\n",
    "methodA_val = pca1.transform(methodA_val)\n",
    "methodA_tst = pca1.transform(methodA_tst)"
   ]
  },
  {
   "cell_type": "markdown",
   "metadata": {},
   "source": [
    ">Method B - Add three additional aggregated features by clustering and then Method A(PCA on numerical values)"
   ]
  },
  {
   "cell_type": "code",
   "execution_count": null,
   "metadata": {},
   "outputs": [],
   "source": [
    "tra_ = tra\n",
    "tst_ = tst\n",
    "val_ = val\n",
    "# create a temporal column to sum\n",
    "tra_['cnt'] = 1\n",
    "tst_['cnt'] = 1\n",
    "val_['cnt'] = 1"
   ]
  },
  {
   "cell_type": "code",
   "execution_count": null,
   "metadata": {},
   "outputs": [],
   "source": [
    "tra_.time = pd.DatetimeIndex(tra_.time)\n",
    "tst_.time = pd.DatetimeIndex(tst_.time)\n",
    "val_.time = pd.DatetimeIndex(val_.time)"
   ]
  },
  {
   "cell_type": "code",
   "execution_count": null,
   "metadata": {},
   "outputs": [],
   "source": [
    "#group data by a set of (src_ip, dst_ip) to reduce the training data size \n",
    "val_['cluster1'] = val_.time.dt.day.map(str) + 'd' + val_.time.dt.hour.map(str) + 'h' + val_.time.dt.minute.map(str) + 'm' \\\n",
    "                        + val_.src_ip.map(str) + '-' + val_.dst_ip.map(str)\n",
    "val_['cluster2'] = val_.time.dt.day.map(str) + 'd' + val_.time.dt.hour.map(str) + 'h' + val_.time.dt.minute.map(str) + 'm' \\\n",
    "                        + val_.src_ip.map(str) + '-' + val_.dst_port.map(str)\n",
    "val_['cluster3'] = val_.time.dt.day.map(str) + 'd' + val_.time.dt.hour.map(str) + 'h' + val_.time.dt.minute.map(str) + 'm' \\\n",
    "                        + val_.src_ip.map(str) + '-' + val_.dst_ip.map(str) + '-' + tvt_.dst_port.map(str)"
   ]
  },
  {
   "cell_type": "code",
   "execution_count": null,
   "metadata": {},
   "outputs": [],
   "source": [
    "#group data by a set of (src_ip, dst_ip) to reduce the training data size \n",
    "tra_['cluster1'] = tra_.time.dt.day.map(str) + 'd' + tra_.time.dt.hour.map(str) + 'h' + tra_.time.dt.minute.map(str) + 'm' \\\n",
    "                        + tra_.src_ip.map(str) + '-' + tra_.dst_ip.map(str)\n",
    "tra_['cluster2'] = tra_.time.dt.day.map(str) + 'd' + tra_.time.dt.hour.map(str) + 'h' + tra_.time.dt.minute.map(str) + 'm' \\\n",
    "                        + tra_.src_ip.map(str) + '-' + tra_.dst_port.map(str)\n",
    "tra_['cluster3'] = tra_.time.dt.day.map(str) + 'd' + tra_.time.dt.hour.map(str) + 'h' + tra_.time.dt.minute.map(str) + 'm' \\\n",
    "                        + tra_.src_ip.map(str) + '-' + tra_.dst_ip.map(str) + '-' + tra_.dst_port.map(str)"
   ]
  },
  {
   "cell_type": "code",
   "execution_count": null,
   "metadata": {},
   "outputs": [],
   "source": [
    "#group data by a set of (src_ip, dst_ip) to reduce the training data size \n",
    "tst_['cluster1'] = tst_.time.dt.day.map(str) + 'd' + tst_.time.dt.hour.map(str) + 'h' + tst_.time.dt.minute.map(str) + 'm' \\\n",
    "                        + tst_.src_ip.map(str) + '-' + tst_.dst_ip.map(str)\n",
    "tst_['cluster2'] = tst_.time.dt.day.map(str) + 'd' + tst_.time.dt.hour.map(str) + 'h' + tst_.time.dt.minute.map(str) + 'm' \\\n",
    "                        + tst_.src_ip.map(str) + '-' + tst_.dst_port.map(str)\n",
    "tst_['cluster3'] = tst_.time.dt.day.map(str) + 'd' + tst_.time.dt.hour.map(str) + 'h' + tst_.time.dt.minute.map(str) + 'm' \\\n",
    "                        + tst_.src_ip.map(str) + '-' + tst_.dst_ip.map(str) + '-' + tst_.dst_port.map(str)"
   ]
  },
  {
   "cell_type": "code",
   "execution_count": 20,
   "metadata": {},
   "outputs": [],
   "source": [
    "# clustering based on its similarity and timestamp \n",
    "# a cluster 1 (source IP and destination ip) time span = 1min\n",
    "tra_cluster1 = tra_.groupby(['cluster1']).agg({'cnt': 'sum'})\n",
    "tst_cluster1 = tst_.groupby(['cluster1']).agg({'cnt': 'sum' })\n",
    "val_cluster1 = val_.groupby(['cluster1']).agg({'cnt': 'sum' })\n",
    "\n",
    "# a cluster 2 (source IP and destination port) time span = 1min\n",
    "tra_cluster2 = tra_.groupby(['cluster2']).agg({'cnt': 'sum' })\n",
    "tst_cluster2 = tst_.groupby(['cluster2']).agg({'cnt': 'sum' })\n",
    "val_cluster2 = val_.groupby(['cluster2']).agg({'cnt': 'sum' })\n",
    "\n",
    "# a cluster 3 (source IP and destination IP and its port) time span = 1min\n",
    "tra_cluster3 = tra_.groupby(['cluster3']).agg({'cnt': 'sum' })\n",
    "tst_cluster3 = tst_.groupby(['cluster3']).agg({'cnt': 'sum' })\n",
    "val_cluster3 = val_.groupby(['cluster3']).agg({'cnt': 'sum' })"
   ]
  },
  {
   "cell_type": "code",
   "execution_count": 21,
   "metadata": {},
   "outputs": [],
   "source": [
    "# merge the aggregation results\n",
    "tra_ = pd.merge(tra_, tra_cluster1, how='left', on=['cluster1'])\n",
    "tst_ = pd.merge(tst_, tst_cluster1, how='left', on=['cluster1'])\n",
    "val_ = pd.merge(val_, val_cluster1, how='left', on=['cluster1'])\n",
    "\n",
    "tra_ = pd.merge(tra_, tra_cluster2, how='left', on=['cluster2'])\n",
    "tst_ = pd.merge(tst_, tst_cluster2, how='left', on=['cluster2'])\n",
    "val_ = pd.merge(val_, val_cluster2, how='left', on=['cluster2'])\n",
    "\n",
    "tra_ = pd.merge(tra_, tra_cluster3, how='left', on=['cluster3'])\n",
    "tst_ = pd.merge(tst_, tst_cluster3, how='left', on=['cluster3'])\n",
    "val_ = pd.merge(val_, val_cluster3, how='left', on=['cluster3'])"
   ]
  },
  {
   "cell_type": "code",
   "execution_count": 22,
   "metadata": {},
   "outputs": [],
   "source": [
    "# rename columns\n",
    "cluster_list = ['time', 'dur', 'protocol', 'src_ip', 'src_port', 'dir', 'dst_ip',\n",
    "       'dst_port', 'state', 'src_tser', 'dst_tser', 'packets', 'bytes_both', \n",
    "       'bytes_src', 'cnt_x', 'cluster1', 'cluster2', 'cluster3', 'c1', 'c2', 'c3']\n",
    "\n",
    "tra_.columns = cluster_list\n",
    "tst_.columns = cluster_list\n",
    "val_.columns = cluster_list"
   ]
  },
  {
   "cell_type": "code",
   "execution_count": 23,
   "metadata": {},
   "outputs": [],
   "source": [
    "# drop unnecessary columns\n",
    "tra_.drop(['cluster1', 'cluster2', 'cluster3', 'cnt_x'], inplace = True, axis = 1)\n",
    "tst_.drop(['cluster1', 'cluster2', 'cluster3', 'cnt_x'], inplace = True, axis = 1)\n",
    "val_.drop(['cluster1', 'cluster2', 'cluster3', 'cnt_x'], inplace = True, axis = 1)"
   ]
  },
  {
   "cell_type": "markdown",
   "metadata": {},
   "source": [
    "Then Method A"
   ]
  },
  {
   "cell_type": "code",
   "execution_count": 24,
   "metadata": {},
   "outputs": [],
   "source": [
    "# create a new column list\n",
    "add_list =  ['c1', 'c2', 'c3']\n",
    "\n",
    "# extract additional numerical attributes\n",
    "methodB_tra = tra_[add_list]\n",
    "methodB_tst = tst_[add_list]\n",
    "methodB_val = val_[add_list]"
   ]
  },
  {
   "cell_type": "code",
   "execution_count": 28,
   "metadata": {},
   "outputs": [
    {
     "name": "stdout",
     "output_type": "stream",
     "text": [
      "best d : 5\n"
     ]
    }
   ],
   "source": [
    "# extract numerical attributes\n",
    "methodAforB_tra = tra_[numeric_list]\n",
    "methodAforB_tst = tst_[numeric_list]\n",
    "methodAforB_val = val_[numeric_list]\n",
    "\n",
    "# normalize values per row\n",
    "normalizer2 = Normalizer()\n",
    "methodAforB_tra = normalizer2.fit_transform(methodAforB_tra)\n",
    "methodAforB_val = normalizer2.transform(methodAforB_val) \n",
    "methodAforB_tst = normalizer2.transform(methodAforB_tst)\n",
    "\n",
    "# convert format\n",
    "methodAforB_tra = pd.DataFrame(methodAforB_tra)\n",
    "methodAforB_val = pd.DataFrame(methodAforB_val)\n",
    "methodAforB_tst = pd.DataFrame(methodAforB_tst)\n",
    "\n",
    "# concatenate features from method A and method B\n",
    "methodAB_tra = pd.concat([methodAforB_tra, methodB_tra], axis = 1)\n",
    "methodAB_tst =pd.concat([methodAforB_tst, methodB_tst], axis = 1)\n",
    "methodAB_val =pd.concat([methodAforB_val, methodB_val], axis = 1)\n",
    "\n",
    "# rescale by using StandardScaler for better output from PCA\n",
    "scaler2 = StandardScaler()\n",
    "methodAB_tra = scaler2.fit_transform(methodAB_tra) \n",
    "methodAB_val = scaler2.transform(methodAB_val) \n",
    "methodAB_tst = scaler2.transform(methodAB_tst)\n",
    "\n",
    "# copy for IF algorithm\n",
    "methodAB_tra_if = methodAB_tra.copy()\n",
    "methodAB_tst_if = methodAB_tst.copy()\n",
    "methodAB_val_if = methodAB_val.copy()\n",
    "\n",
    "# reduce dimensionality PCA\n",
    "pca2 = PCA()\n",
    "pca2.fit(methodAB_tra)\n",
    "cumsum2 = np.cumsum(pca2.explained_variance_ratio_)\n",
    "pca2_d = np.argmax(cumsum2 >=0.95) + 1               # find the best dimensionality parameter\n",
    "print(\"best d :\", pca2_d)\n",
    "pca2 = PCA(n_components = pca2_d)\n",
    "methodAB_tra = pca2.fit_transform(methodAB_tra)\n",
    "methodAB_val = pca2.transform(methodAB_val)\n",
    "methodAB_tst = pca2.transform(methodAB_tst)"
   ]
  },
  {
   "cell_type": "markdown",
   "metadata": {},
   "source": [
    ">Method C - Pearson's correlation coefficient filtering numerical features from MethodB and then Method A(PCA on numerical values )"
   ]
  },
  {
   "cell_type": "code",
   "execution_count": 240,
   "metadata": {},
   "outputs": [],
   "source": [
    "methodAforC_tra = tra_[numeric_list]\n",
    "methodAforC_tst = tst_[numeric_list]\n",
    "methodAforC_val = val_[numeric_list]\n",
    "\n",
    "methodBforC_tra = tra_[add_list]\n",
    "methodBforC_tst = tst_[add_list]\n",
    "methodBforC_val = val_[add_list]"
   ]
  },
  {
   "cell_type": "code",
   "execution_count": 241,
   "metadata": {},
   "outputs": [],
   "source": [
    "methodABC_tra = pd.concat([methodAforC_tra, methodBforC_tra], axis = 1)\n",
    "methodABC_tst =pd.concat([methodAforC_tst, methodBforC_tst], axis = 1)\n",
    "methodABC_val =pd.concat([methodAforC_val, methodBforC_val], axis = 1)"
   ]
  },
  {
   "cell_type": "code",
   "execution_count": 242,
   "metadata": {},
   "outputs": [
    {
     "data": {
      "image/png": "[encoded data removed]",
      "text/plain": [
       "<Figure size 576x576 with 2 Axes>"
      ]
     },
     "metadata": {
      "needs_background": "light"
     },
     "output_type": "display_data"
    }
   ],
   "source": [
    "# feature correlation visualization   \n",
    "# check correlationship bewteen the generated numerical features in training and valid dataset\n",
    "\n",
    "corr1 = methodABC_tra.corr()\n",
    "plt.figure(figsize= (8,8))\n",
    "sns.heatmap(corr1, annot = True, vmin = -1, vmax = 1, center = 0, cmap = 'coolwarm', square = True)\n",
    "plt.yticks(rotation = 0)\n",
    "plt.savefig('feature_correlation_tra_task1', dpi= 130)\n"
   ]
  },
  {
   "cell_type": "code",
   "execution_count": 243,
   "metadata": {},
   "outputs": [
    {
     "data": {
      "image/png": "[encoded data removed]",
      "text/plain": [
       "<Figure size 576x576 with 2 Axes>"
      ]
     },
     "metadata": {
      "needs_background": "light"
     },
     "output_type": "display_data"
    }
   ],
   "source": [
    "# feature correlation visualization   \n",
    "# check correlationship bewteen the generated numerical features in test dataset\n",
    "\n",
    "corr2 = methodABC_tst.corr()\n",
    "plt.figure(figsize= (8,8))\n",
    "sns.heatmap(corr2, annot = True, vmin = -1, vmax = 1, center = 0, cmap = 'coolwarm', square = True)\n",
    "plt.yticks(rotation = 0)\n",
    "plt.savefig('feature_correlation_tst_task1', dpi= 130)\n"
   ]
  },
  {
   "cell_type": "code",
   "execution_count": 36,
   "metadata": {},
   "outputs": [],
   "source": [
    "filtered_list = ['dur', 'packets', 'bytes_src', 'c1', 'c2']"
   ]
  },
  {
   "cell_type": "code",
   "execution_count": 37,
   "metadata": {},
   "outputs": [
    {
     "name": "stdout",
     "output_type": "stream",
     "text": [
      "best d : 4\n"
     ]
    }
   ],
   "source": [
    "# extract numerical attributes\n",
    "methodAforC_tra = tra_[['dur', 'packets', 'bytes_src']]\n",
    "methodAforC_tst = tst_[['dur', 'packets', 'bytes_src']]\n",
    "methodAforC_val = val_[['dur', 'packets', 'bytes_src']]\n",
    "\n",
    "methodBforC_tra = tra_[['c1', 'c2']]\n",
    "methodBforC_tst = tst_[['c1', 'c2']]\n",
    "methodBforC_val = val_[['c1', 'c2']]\n",
    "\n",
    "# normalize values per row\n",
    "normalizer3 = Normalizer()\n",
    "methodAforC_tra = normalizer3.fit_transform(methodAforC_tra) \n",
    "methodAforC_val = normalizer3.transform(methodAforC_val) \n",
    "methodAforC_tst = normalizer3.transform(methodAforC_tst)\n",
    "\n",
    "# convert format\n",
    "methodAforC_tra = pd.DataFrame(methodAforC_tra)\n",
    "methodAforC_tst = pd.DataFrame(methodAforC_tst)\n",
    "methodAforC_val = pd.DataFrame(methodAforC_val)\n",
    "\n",
    "# concatenate features from method A and method B\n",
    "methodABC_tra = pd.concat([methodAforC_tra, methodBforC_tra], axis = 1)\n",
    "methodABC_tst =pd.concat([methodAforC_tst, methodBforC_tst], axis = 1)\n",
    "methodABC_val =pd.concat([methodAforC_val, methodBforC_val], axis = 1)\n",
    "\n",
    "# rescale by using StandardScaler for better output from PCA\n",
    "scaler3 = StandardScaler()\n",
    "methodABC_tra = scaler3.fit_transform(methodABC_tra) \n",
    "methodABC_val = scaler3.transform(methodABC_val) \n",
    "methodABC_tst = scaler3.transform(methodABC_tst)\n",
    "\n",
    "# copy for IF algorithm\n",
    "methodABC_tra_if = methodABC_tra.copy()\n",
    "methodABC_val_if = methodABC_val.copy()\n",
    "methodABC_tst_if = methodABC_tst.copy()\n",
    "\n",
    "# reduce dimensionality PCA\n",
    "pca3 = PCA()\n",
    "pca3.fit(methodABC_tra)\n",
    "cumsum3 = np.cumsum(pca3.explained_variance_ratio_)\n",
    "pca3_d = np.argmax(cumsum3 >=0.95) + 1               # find the best dimensionality parameter\n",
    "print(\"best d :\", pca3_d)\n",
    "pca3 = PCA(n_components = pca3_d)\n",
    "methodABC_tra = pca3.fit_transform(methodABC_tra)\n",
    "methodABC_val = pca3.transform(methodABC_val)\n",
    "methodABC_tst = pca3.transform(methodABC_tst)"
   ]
  },
  {
   "cell_type": "markdown",
   "metadata": {},
   "source": [
    "# Setup Essential Functions"
   ]
  },
  {
   "cell_type": "code",
   "execution_count": 38,
   "metadata": {},
   "outputs": [],
   "source": [
    "\"\"\" \n",
    "Source Code version v0.1\n",
    "Author: Elena Sharova \n",
    "Year: (2018)\n",
    "Address: https://github.com/elena-sharova/IsolationForest/blob/master/IsolationForest_v0.1.ipynb\n",
    "\"\"\"\n",
    "def plot_confusion_matrix(cm, title, classes=['abnormal', 'normal'],\n",
    "                          cmap=plt.cm.Blues, save=False, saveas=\"MyFigure.png\"):\n",
    "    # print Confusion matrix with blue gradient colours\n",
    "    \n",
    "    cm = cm.astype('float') / cm.sum(axis=1)[:, np.newaxis]\n",
    "\n",
    "    plt.imshow(cm, interpolation='nearest', cmap=cmap)\n",
    "    plt.title(title)\n",
    "    plt.colorbar()\n",
    "    tick_marks = np.arange(len(classes))\n",
    "    plt.xticks(tick_marks, classes, rotation=90)\n",
    "    plt.yticks(tick_marks, classes)\n",
    "\n",
    "    fmt = '.1%'\n",
    "    thresh = cm.max() / 2.\n",
    "    for i, j in itertools.product(range(cm.shape[0]), range(cm.shape[1])):\n",
    "        plt.text(j, i, format(cm[i, j], fmt),\n",
    "                 horizontalalignment=\"center\",\n",
    "                 color=\"white\" if cm[i, j] > thresh else \"black\")\n",
    "    plt.tight_layout()\n",
    "    plt.ylabel('True label')\n",
    "    plt.xlabel('Predicted label')\n",
    "    \n",
    "    if save:\n",
    "        plt.savefig(saveas, dpi=100)"
   ]
  },
  {
   "cell_type": "code",
   "execution_count": 39,
   "metadata": {},
   "outputs": [],
   "source": [
    "# function for CBLOF which returns 0 for normal data & 1 for anormal data\n",
    "# convert predicted label 0 to 1 , 1 to -1\n",
    "def convert_label(predict):\n",
    "    new_predict = []\n",
    "    for i in range(len(predict)):\n",
    "        if predict[i] == 0:\n",
    "            new_predict.append(1)\n",
    "        else:\n",
    "            new_predict.append(-1)\n",
    "    new_predict = np.array(new_predict).reshape(-1)\n",
    "    return new_predict"
   ]
  },
  {
   "cell_type": "code",
   "execution_count": 40,
   "metadata": {},
   "outputs": [],
   "source": [
    "# reshape label data\n",
    "labels = valid_label.values\n",
    "label_valid = labels.reshape(-1)"
   ]
  },
  {
   "cell_type": "markdown",
   "metadata": {},
   "source": [
    "# Parameter Setting for Clustering Based Local Outlier Factor"
   ]
  },
  {
   "cell_type": "code",
   "execution_count": 48,
   "metadata": {},
   "outputs": [],
   "source": [
    "# use sub_validation set to balance the distribution 50:50\n",
    "benign_list = np.argwhere(label_valid == 1)\n",
    "anomaly_list = np.argwhere(label_valid == -1)\n",
    "anomaly_list = anomaly_list[:int(len(benign_list)/9)]  # balance the distribution\n",
    "new_val_index = np.append(benign_list, anomaly_list, axis = 0)\n",
    "new_label_val = label_valid[new_val_index]"
   ]
  },
  {
   "cell_type": "code",
   "execution_count": 49,
   "metadata": {},
   "outputs": [
    {
     "name": "stderr",
     "output_type": "stream",
     "text": [
      "  0%|          | 0/7 [00:00<?, ?it/s]"
     ]
    },
    {
     "name": "stdout",
     "output_type": "stream",
     "text": [
      "2 (clusters)\n",
      " 1388204 in train\n",
      "178870 in valid\n"
     ]
    },
    {
     "name": "stderr",
     "output_type": "stream",
     "text": [
      " 14%|█▍        | 1/7 [00:38<03:51, 38.53s/it]"
     ]
    },
    {
     "name": "stdout",
     "output_type": "stream",
     "text": [
      "255169 in test\n",
      "4 (clusters)\n",
      " 1388204 in train\n",
      "360456 in valid\n"
     ]
    },
    {
     "name": "stderr",
     "output_type": "stream",
     "text": [
      " 29%|██▊       | 2/7 [01:58<04:14, 50.81s/it]"
     ]
    },
    {
     "name": "stdout",
     "output_type": "stream",
     "text": [
      "482656 in test\n",
      "5 (clusters)\n",
      " 1388204 in train\n",
      "273564 in valid\n"
     ]
    },
    {
     "name": "stderr",
     "output_type": "stream",
     "text": [
      " 43%|████▎     | 3/7 [03:25<04:06, 61.70s/it]"
     ]
    },
    {
     "name": "stdout",
     "output_type": "stream",
     "text": [
      "383942 in test\n",
      "6 (clusters)\n",
      " 1388204 in train\n",
      "267448 in valid\n"
     ]
    },
    {
     "name": "stderr",
     "output_type": "stream",
     "text": [
      " 57%|█████▋    | 4/7 [04:55<03:30, 70.17s/it]"
     ]
    },
    {
     "name": "stdout",
     "output_type": "stream",
     "text": [
      "365933 in test\n",
      "7 (clusters)\n",
      " 1388204 in train\n",
      "205993 in valid\n"
     ]
    },
    {
     "name": "stderr",
     "output_type": "stream",
     "text": [
      " 71%|███████▏  | 5/7 [06:32<02:36, 78.36s/it]"
     ]
    },
    {
     "name": "stdout",
     "output_type": "stream",
     "text": [
      "304081 in test\n",
      "8 (clusters)\n",
      " 1388208 in train\n",
      "209301 in valid\n"
     ]
    },
    {
     "name": "stderr",
     "output_type": "stream",
     "text": [
      " 86%|████████▌ | 6/7 [08:46<01:35, 95.05s/it]"
     ]
    },
    {
     "name": "stdout",
     "output_type": "stream",
     "text": [
      "307192 in test\n",
      "9 (clusters)\n",
      " 1388204 in train\n",
      "203708 in valid\n"
     ]
    },
    {
     "name": "stderr",
     "output_type": "stream",
     "text": [
      "100%|██████████| 7/7 [13:21<00:00, 114.46s/it]"
     ]
    },
    {
     "name": "stdout",
     "output_type": "stream",
     "text": [
      "303475 in test\n"
     ]
    },
    {
     "name": "stderr",
     "output_type": "stream",
     "text": [
      "\n"
     ]
    },
    {
     "data": {
      "image/png": "[encoded data removed]",
      "text/plain": [
       "<Figure size 432x288 with 1 Axes>"
      ]
     },
     "metadata": {
      "needs_background": "light"
     },
     "output_type": "display_data"
    },
    {
     "data": {
      "text/plain": [
       "<Figure size 432x288 with 0 Axes>"
      ]
     },
     "metadata": {},
     "output_type": "display_data"
    }
   ],
   "source": [
    "# find the best number of clusters\n",
    "n_clusters = [2, 4, 5, 6, 7, 8, 9]\n",
    "clu_roc_results = []\n",
    "clu_recall_results = []\n",
    "\n",
    "tra = methodAB_tra\n",
    "tst = methodAB_tst\n",
    "val = methodAB_val\n",
    "    \n",
    "for n_clu in tqdm(n_clusters):\n",
    "    clfCBLOF = CBLOF(n_clusters = n_clu, contamination = 0.10)\n",
    "    pred_tra_cblof = clfCBLOF.fit_predict(tra)\n",
    "    pred_tra_cblof = convert_label(pred_tra_cblof)\n",
    "    print(n_clu, \"(clusters)\\n\",np.count_nonzero(pred_tra_cblof == -1), \"in train\")\n",
    "    pred_val_cblof = clfCBLOF.predict(val)\n",
    "    pred_val_cblof = convert_label(pred_val_cblof)\n",
    "    print(np.count_nonzero(pred_val_cblof == -1), \"in valid\")\n",
    "    pred_tst_cblof = clfCBLOF.predict(tst)\n",
    "    pred_tst_cblof = convert_label(pred_tst_cblof)\n",
    "    print(np.count_nonzero(pred_tst_cblof == -1), \"in test\")\n",
    "    new_pred_val = pred_val_cblof[new_val_index]\n",
    "\n",
    "    clu_roc_results.append(roc_auc_score(new_label_val, new_pred_val))\n",
    "    clu_recall_results.append(recall_score(new_label_val, new_pred_val))\n",
    "\n",
    "plt.plot(n_clusters, clu_roc_results, label = \"auc\")\n",
    "plt.plot(n_clusters, clu_recall_results, label = \"recall\")\n",
    "\n",
    "plt.ylabel('score')\n",
    "plt.xlabel('n_clusters')\n",
    "plt.legend()\n",
    "plt.show()\n",
    "plt.savefig('n_clusters_cblof.png')"
   ]
  },
  {
   "cell_type": "code",
   "execution_count": 51,
   "metadata": {},
   "outputs": [
    {
     "name": "stderr",
     "output_type": "stream",
     "text": [
      "  0%|          | 0/6 [00:00<?, ?it/s]"
     ]
    },
    {
     "name": "stdout",
     "output_type": "stream",
     "text": [
      "0.1 (con)\n",
      " 1388204 in train\n",
      "209521 in valid\n"
     ]
    },
    {
     "name": "stderr",
     "output_type": "stream",
     "text": [
      " 17%|█▋        | 1/6 [06:49<34:06, 409.37s/it]"
     ]
    },
    {
     "name": "stdout",
     "output_type": "stream",
     "text": [
      "307264 in test\n",
      "0.125 (con)\n",
      " 1735255 in train\n",
      "257294 in valid\n"
     ]
    },
    {
     "name": "stderr",
     "output_type": "stream",
     "text": [
      " 33%|███▎      | 2/6 [12:37<26:04, 391.08s/it]"
     ]
    },
    {
     "name": "stdout",
     "output_type": "stream",
     "text": [
      "372649 in test\n",
      "0.15 (con)\n",
      " 2082306 in train\n",
      "326372 in valid\n"
     ]
    },
    {
     "name": "stderr",
     "output_type": "stream",
     "text": [
      " 50%|█████     | 3/6 [18:25<18:54, 378.05s/it]"
     ]
    },
    {
     "name": "stdout",
     "output_type": "stream",
     "text": [
      "432521 in test\n",
      "0.175 (con)\n",
      " 2429356 in train\n",
      "393580 in valid\n"
     ]
    },
    {
     "name": "stderr",
     "output_type": "stream",
     "text": [
      " 67%|██████▋   | 4/6 [24:24<12:24, 372.27s/it]"
     ]
    },
    {
     "name": "stdout",
     "output_type": "stream",
     "text": [
      "502897 in test\n",
      "0.19999999999999998 (con)\n",
      " 2776407 in train\n",
      "451133 in valid\n"
     ]
    },
    {
     "name": "stderr",
     "output_type": "stream",
     "text": [
      " 83%|████████▎ | 5/6 [29:16<05:48, 348.22s/it]"
     ]
    },
    {
     "name": "stdout",
     "output_type": "stream",
     "text": [
      "566345 in test\n",
      "0.22499999999999998 (con)\n",
      " 3123458 in train\n",
      "497595 in valid\n"
     ]
    },
    {
     "name": "stderr",
     "output_type": "stream",
     "text": [
      "100%|██████████| 6/6 [35:23<00:00, 353.86s/it]"
     ]
    },
    {
     "name": "stdout",
     "output_type": "stream",
     "text": [
      "618679 in test\n"
     ]
    },
    {
     "name": "stderr",
     "output_type": "stream",
     "text": [
      "\n"
     ]
    },
    {
     "data": {
      "image/png": "[encoded data removed]",
      "text/plain": [
       "<Figure size 432x288 with 1 Axes>"
      ]
     },
     "metadata": {
      "needs_background": "light"
     },
     "output_type": "display_data"
    },
    {
     "data": {
      "text/plain": [
       "<Figure size 432x288 with 0 Axes>"
      ]
     },
     "metadata": {},
     "output_type": "display_data"
    }
   ],
   "source": [
    "# find the best contamination percent \n",
    "contamination1 = np.arange(0.10, 0.25, 0.025) # (values are narrowed based on previous experiments)\n",
    "con1_roc_results = []\n",
    "con1_recall_results = []\n",
    "\n",
    "tra = methodAB_tra\n",
    "tst = methodAB_tst\n",
    "val = methodAB_val\n",
    "\n",
    "for con in tqdm(contamination1) :\n",
    "    clfCBLOF = CBLOF(n_clusters = 8, contamination = con)\n",
    "    pred_tra_cblof = clfCBLOF.fit_predict(tra)\n",
    "    pred_tra_cblof = convert_label(pred_tra_cblof)\n",
    "    print(con, \"(con)\\n\",np.count_nonzero(pred_tra_cblof == -1), \"in train\")    \n",
    "    pred_val_cblof = clfCBLOF.predict(val)\n",
    "    pred_val_cblof = convert_label(pred_val_cblof)\n",
    "    print(np.count_nonzero(pred_val_cblof == -1), \"in valid\")\n",
    "    pred_tst_cblof = clfCBLOF.predict(tst)\n",
    "    pred_tst_cblof = convert_label(pred_tst_cblof)\n",
    "    print(np.count_nonzero(pred_tst_cblof == -1), \"in test\")\n",
    "    new_pred_val = pred_val_cblof[new_val_index]\n",
    "    con1_roc_results.append(roc_auc_score(new_label_val, new_pred_val))\n",
    "    con1_recall_results.append(recall_score(new_label_val, new_pred_val))\n",
    "\n",
    "\n",
    "plt.plot(contamination1, con1_roc_results, label = \"auc\")\n",
    "plt.plot(contamination1, con1_recall_results, label = \"recall\")\n",
    "\n",
    "plt.ylabel('score')\n",
    "plt.xlabel('contamination(%)')\n",
    "plt.legend()\n",
    "plt.show()\n",
    "plt.savefig('contamination_cblof.png')\n"
   ]
  },
  {
   "cell_type": "markdown",
   "metadata": {},
   "source": [
    "# Parameter Setting for Isolation Forest"
   ]
  },
  {
   "cell_type": "code",
   "execution_count": 55,
   "metadata": {},
   "outputs": [],
   "source": [
    "# find the best number of estimator \n",
    "n_estimators = range(20, 150, 40)\n",
    "est_roc_results = []\n",
    "est_recall_results = []\n",
    "\n",
    "tra = methodAB_tra_if\n",
    "tst = methodAB_tst_if\n",
    "val = methodAB_val_if\n",
    "\n",
    "for n_est in tqdm(n_estimators):\n",
    "    clfIF = IsolationForest(max_samples=0.20, random_state=1, contamination=0.1, n_estimators=n_est, n_jobs=-1)\n",
    "    pred_tra_if = clfIF.fit_predict(tra)\n",
    "    print(n_est, \"(n_est)\\n\",np.count_nonzero(pred_tra_if == -1), \"in train\") \n",
    "    pred_val_if = clfIF.predict(val)\n",
    "    print(np.count_nonzero(pred_val_if == -1), \"in valid\")\n",
    "    pred_tst_if = clfIF.predict(tst)\n",
    "    print(np.count_nonzero(pred_tst_if == -1), \"in test\")\n",
    "    new_pred_val = pred_val_if[new_val_index]\n",
    "    est_roc_results.append(roc_auc_score(new_label_val, new_pred_val))\n",
    "    est_recall_results.append(recall_score(new_label_val, new_pred_val))\n",
    "\n",
    "plt.plot(n_estimators, est_roc_results, label = \"auc\")\n",
    "plt.plot(n_estimators, est_recall_results, label = \"recall\")\n",
    "\n",
    "plt.ylabel('score')\n",
    "plt.xlabel('n_estimators')\n",
    "plt.legend()\n",
    "plt.show()\n",
    "plt.savefig('n_estimators.png')\n"
   ]
  },
  {
   "cell_type": "code",
   "execution_count": null,
   "metadata": {},
   "outputs": [],
   "source": [
    "# find the max number of samples \n",
    "max_samples =  np.arange(0.1, 0.41, 0.5)\n",
    "max_roc_results = []\n",
    "max_recall_results = []\n",
    "    \n",
    "tra = methodAB_tra_if\n",
    "tst = methodAB_tst_if\n",
    "val = methodAB_val_if\n",
    "\n",
    "for max_sample in tqdm(max_samples):\n",
    "    start = datetime.datetime.now()\n",
    "    clfIF = IsolationForest(max_samples=max_sample, random_state = 1, contamination=0.1, n_estimators= 100, n_jobs=-1)\n",
    "    pred_tra_if = clfIF.fit_predict(tra)\n",
    "    print(max_sample, \"(max_samples)\\n\",np.count_nonzero(pred_tra_if == -1), \"in train\") \n",
    "    pred_val_if = clfIF.predict(val)\n",
    "    print(np.count_nonzero(pred_val_if == -1), \"in valid\")\n",
    "    pred_tst_if = clfIF.predict(tst)\n",
    "    print(np.count_nonzero(pred_tst_if == -1), \"in test\")\n",
    "    new_pred_val = pred_val_if[new_val_index]\n",
    "    max_roc_results.append(roc_auc_score(new_label_val, new_pred_val))\n",
    "    max_recall_results.append(recall_score(new_label_val, new_pred_val))\n",
    "    \n",
    "plt.plot(max_samples, max_roc_results, label = \"auc\")\n",
    "plt.plot(max_samples, max_recall_results, label = \"recall\")\n",
    "\n",
    "plt.ylabel('score')\n",
    "plt.xlabel('max_samples')\n",
    "plt.legend()\n",
    "plt.show()\n",
    "plt.savefig('max_samples.png')"
   ]
  },
  {
   "cell_type": "code",
   "execution_count": 191,
   "metadata": {},
   "outputs": [],
   "source": [
    "# find the best contamination percent\n",
    "contamination2 = np.arange(0.1, 0.23, 0.04)   # values are narrowed based on previous experiments\n",
    "con2_roc_results = []\n",
    "con2_recall_results = [] \n",
    "\n",
    "tra = methodAB_tra_if\n",
    "tst = methodAB_tst_if\n",
    "val = methodAB_val_if\n",
    "\n",
    "for con in tqdm(contamination2):\n",
    "    clfIF = IsolationForest(max_samples=0.25, random_state=1, contamination=con, n_estimators=100, n_jobs=-1)\n",
    "    pred_tra_if = clfIF.fit_predict(tra)\n",
    "    print(con, \"(con)\\n\",np.count_nonzero(pred_tra_if == -1), \"in train\") \n",
    "    pred_val_if = clfIF.predict(val)\n",
    "    print(np.count_nonzero(pred_val_if == -1), \"in valid\")\n",
    "    pred_tst_if = clfIF.predict(tst)\n",
    "    print(np.count_nonzero(pred_tst_if == -1), \"in test\")\n",
    "    new_pred_val = pred_val_if[new_val_index]\n",
    "    con2_recall_results.append(recall_score(new_label_val, new_pred_val))\n",
    "    print (\"AUC: \", \"{:.1%}\".format(roc_auc_score(new_label_val, new_pred_val)))\n",
    "\n",
    "plt.plot(contamination2, con2_roc_results, label = \"auc\")\n",
    "plt.plot(contamination2, con2_recall_results, label = \"recall\")\n",
    "\n",
    "plt.ylabel('score')\n",
    "plt.xlabel('contamination(%)')\n",
    "plt.legend()\n",
    "plt.show()\n",
    "plt.savefig('contamination_if')\n"
   ]
  },
  {
   "cell_type": "markdown",
   "metadata": {},
   "source": [
    "# Prediction for test dataset with 3 methods and 2 models"
   ]
  },
  {
   "cell_type": "code",
   "execution_count": 79,
   "metadata": {},
   "outputs": [
    {
     "data": {
      "text/plain": [
       "'\\ndecision_scores_ : numpy array of shape (n_samples,)\\n        The outlier scores of the training data.\\n        The higher, the more abnormal.\\n'"
      ]
     },
     "execution_count": 79,
     "metadata": {},
     "output_type": "execute_result"
    }
   ],
   "source": [
    "# run function CBLOF with the best params\n",
    "\n",
    "def runCBLOF(train, test):\n",
    "    clfCBLOF = CBLOF(n_clusters = 8, contamination = 0.1)\n",
    "    clfCBLOF.fit(train) \n",
    "    pred_result = clfCBLOF.predict(test)\n",
    "    pred_score =  clfCBLOF.decision_function(test)\n",
    "    threshold = clfCBLOF.threshold_\n",
    "    return pred_result, pred_score, threshold\n",
    "\n",
    "'''\n",
    "decision_function : numpy array of shape (n_samples,)\n",
    "        The outlier scores; The higher, the more abnormal.\n",
    "'''"
   ]
  },
  {
   "cell_type": "code",
   "execution_count": 197,
   "metadata": {},
   "outputs": [
    {
     "data": {
      "text/plain": [
       "'\\ndecision_function: scoresndarray of shape (n_samples,)\\n        The anomaly score of the input samples. The lower, the more abnormal. Negative scores represent outliers, positive scores represent inliers.\\n'"
      ]
     },
     "execution_count": 197,
     "metadata": {},
     "output_type": "execute_result"
    }
   ],
   "source": [
    "# run function IF with the best params\n",
    "\n",
    "def runIF(train, test):\n",
    "    clfIF = IsolationForest(max_samples=0.25, random_state=1, contamination=0.1, n_estimators=100, n_jobs=-1)\n",
    "    clfIF.fit(train) \n",
    "    pred_result = clfIF.predict(test)\n",
    "    pred_score =  clfIF.score_samples(test)\n",
    "    \n",
    "    return pred_result, pred_score\n",
    "\n",
    "'''\n",
    "decision_function: scoresndarray of shape (n_samples,)\n",
    "        The anomaly score of the input samples. The lower, the more abnormal. Negative scores represent outliers, positive scores represent inliers.\n",
    "'''"
   ]
  },
  {
   "cell_type": "code",
   "execution_count": 87,
   "metadata": {},
   "outputs": [],
   "source": [
    "# get the index of the detected anomalies\n",
    "def getindice(result, model):\n",
    "    nb_results = len(result)\n",
    "    indice = []\n",
    "    \n",
    "    if model == 'cblof':\n",
    "        for i in range(nb_results):\n",
    "            if result[i] == 1:         # 1 : anomalies in cblof \n",
    "                indice.append(i)\n",
    "    elif model == 'if':\n",
    "        for i in range(nb_results):\n",
    "            if result[i] == -1:         # -1 : anomalies in cblof \n",
    "                indice.append(i)\n",
    "    else:\n",
    "        return \"Model inpu Error\"\n",
    "    \n",
    "    return indice\n"
   ]
  },
  {
   "cell_type": "markdown",
   "metadata": {},
   "source": [
    "# CBLOF algorithm"
   ]
  },
  {
   "cell_type": "code",
   "execution_count": 181,
   "metadata": {},
   "outputs": [],
   "source": [
    "# initialise result sets\n",
    "df_A_cblof = tst_\n",
    "df_AB_cblof = tst_\n",
    "df_ABC_cblof = tst_"
   ]
  },
  {
   "cell_type": "code",
   "execution_count": 86,
   "metadata": {},
   "outputs": [],
   "source": [
    "# predict cblof 10min\n",
    "A_cblof_result, A_cblof_score, A_cblof_threshold = runCBLOF(methodA_tra, methodA_tst)\n",
    "AB_cblof_result, AB_cblof_score, AB_cblof_threshold= runCBLOF(methodAB_tra, methodAB_tst)\n",
    "ABC_cblof_result, ABC_cblof_score, ABC_cblof_thresholdf = runCBLOF(methodABC_tra, methodABC_tst)"
   ]
  },
  {
   "cell_type": "code",
   "execution_count": 88,
   "metadata": {},
   "outputs": [],
   "source": [
    "# get indice of anomalies\n",
    "A_cblof_result_i = getindice(A_cblof_result, 'cblof')\n",
    "AB_cblof_result_i = getindice(AB_cblof_result, 'cblof')\n",
    "ABC_cblof_result_i = getindice(ABC_cblof_result, 'cblof')"
   ]
  },
  {
   "cell_type": "code",
   "execution_count": 245,
   "metadata": {},
   "outputs": [
    {
     "name": "stdout",
     "output_type": "stream",
     "text": [
      "A   0.10914982753630752 \n",
      "AB  0.29157513676109864 \n",
      "ABC 0.2651319691225939\n"
     ]
    }
   ],
   "source": [
    "# print out the results\n",
    "total = len(tst_)\n",
    "print(\"A  \", len(df_A_cblof_sort)/total ,\"\\nAB \" ,  len(df_AB_cblof_sort)/total , \"\\nABC\", len(df_ABC_cblof_sort)/total )\n"
   ]
  },
  {
   "cell_type": "code",
   "execution_count": 182,
   "metadata": {},
   "outputs": [],
   "source": [
    "# append the score results and extract detected attacks samples only \n",
    "df_A_cblof['score'] = A_cblof_score\n",
    "df_AB_cblof['score'] = AB_cblof_score\n",
    "df_ABC_cblof['score'] = ABC_cblof_score\n",
    "\n",
    "df_A_cblof = df_A_cblof.iloc[A_cblof_result_i]\n",
    "df_AB_cblof = df_AB_cblof.iloc[AB_cblof_result_i]\n",
    "df_ABC_cblof = df_ABC_cblof.iloc[ABC_cblof_result_i]\n",
    "\n",
    "export_list = ['time', 'src_ip', 'dst_ip', 'src_port', 'dst_port', 'protocol', 'score']\n",
    "df_A_cblof = df_A_cblof[export_list]\n",
    "df_AB_cblof = df_AB_cblof[export_list]\n",
    "df_ABC_cblof = df_ABC_cblof[export_list]\n",
    "\n",
    "# sort the examples\n",
    "df_A_cblof_sort = df_A_cblof.sort_values(by=['src_ip', 'dst_ip', 'time'])\n",
    "df_AB_cblof_sort = df_AB_cblof.sort_values(by=['src_ip', 'dst_ip', 'time'])\n",
    "df_ABC_cblof_sort = df_ABC_cblof.sort_values(by=['src_ip', 'dst_ip', 'time'])\n",
    "\n",
    "df_A_cblof_sort['attack_type'] = 'None'\n",
    "df_AB_cblof_sort['attack_type'] = 'None'\n",
    "df_ABC_cblof_sort['attack_type'] = 'None'"
   ]
  },
  {
   "cell_type": "code",
   "execution_count": 185,
   "metadata": {},
   "outputs": [],
   "source": [
    "# port scan\n",
    "df_A_cblof_sort.loc[(df_A_cblof_sort.protocol == 'udp') & (df_A_cblof_sort.dst_port == 53), 'attack_type'] = \"Port_Scan\"\n",
    "df_AB_cblof_sort.loc[(df_AB_cblof_sort.protocol == 'udp') & (df_AB_cblof_sort.dst_port == 53), 'attack_type'] = \"Port_Scan\"\n",
    "df_ABC_cblof_sort.loc[(df_ABC_cblof_sort.protocol == 'udp') & (df_ABC_cblof_sort.dst_port == 53), 'attack_type'] = \"Port_Scan\"\n",
    "\n",
    "# spam\n",
    "df_A_cblof_sort.loc[(df_A_cblof_sort.protocol == 'tcp') & (df_A_cblof_sort.dst_port == 25), 'attack_type'] = \"SPAM\"\n",
    "df_AB_cblof_sort.loc[(df_AB_cblof_sort.protocol == 'tcp') & (df_AB_cblof_sort.dst_port == 25), 'attack_type'] = \"SPAM\"\n",
    "df_ABC_cblof_sort.loc[(df_ABC_cblof_sort.protocol == 'tcp') & (df_ABC_cblof_sort.dst_port == 25), 'attack_type'] = \"SPAM\"\n",
    "\n",
    "# ddos\n",
    "df_A_cblof_sort.loc[(df_A_cblof_sort.protocol == 'icmp'), 'attack_type'] = \"icmp_DDoS\"\n",
    "df_AB_cblof_sort.loc[(df_AB_cblof_sort.protocol == 'icmp'), 'attack_type'] = \"icmp_DDoS\"\n",
    "df_ABC_cblof_sort.loc[(df_ABC_cblof_sort.protocol == 'icmp'), 'attack_type'] = \"icmp_DDoS\"\n",
    "\n",
    "# label unspecified attacks as other\n",
    "df_A_cblof_sort.loc[ df_A_cblof_sort.attack_type== 'None' ,'attack_type'] = 'Other'\n",
    "df_AB_cblof_sort.loc[ df_AB_cblof_sort.attack_type== 'None' ,'attack_type'] = 'Other'\n",
    "df_ABC_cblof_sort.loc[ df_ABC_cblof_sort.attack_type== 'None','attack_type'] = 'Other'\n"
   ]
  },
  {
   "cell_type": "code",
   "execution_count": 189,
   "metadata": {},
   "outputs": [],
   "source": [
    "df_A_cblof_sort.to_csv(\"A_cblof_result.csv\", index = True, header = True)\n",
    "df_AB_cblof_sort.to_csv(\"AB_cblof_result.csv\", index = True, header = True)\n",
    "df_ABC_cblof_sort.to_csv(\"ABC_cblof_result.csv\", index = True, header = True)"
   ]
  },
  {
   "cell_type": "markdown",
   "metadata": {},
   "source": [
    "# IF algorithm"
   ]
  },
  {
   "cell_type": "code",
   "execution_count": 206,
   "metadata": {},
   "outputs": [],
   "source": [
    "df_A_if = tst_\n",
    "df_AB_if = tst_\n",
    "df_ABC_if = tst_"
   ]
  },
  {
   "cell_type": "code",
   "execution_count": 198,
   "metadata": {},
   "outputs": [],
   "source": [
    "# predict IF\n",
    "A_if_result, A_if_score = runIF(methodA_tra_if, methodA_tst_if)\n",
    "AB_if_result, AB_if_score = runIF(methodAB_tra_if, methodAB_tst_if)\n",
    "ABC_if_result, ABC_if_score = runIF(methodABC_tra_if, methodABC_tst_if)"
   ]
  },
  {
   "cell_type": "code",
   "execution_count": 199,
   "metadata": {},
   "outputs": [],
   "source": [
    "# get indice of anomalies\n",
    "A_if_result_i = getindice(A_if_result, 'cblof')\n",
    "AB_if_result_i = getindice(AB_if_result, 'cblof')\n",
    "ABC_if_result_i = getindice(ABC_if_result, 'cblof')"
   ]
  },
  {
   "cell_type": "code",
   "execution_count": 207,
   "metadata": {},
   "outputs": [],
   "source": [
    "# append the score results and extract detected attacks samples only \n",
    "df_A_if['score'] = A_if_score\n",
    "df_AB_if['score'] = AB_if_score\n",
    "df_ABC_if['score'] = ABC_if_score\n",
    "\n",
    "df_A_if = df_A_if.iloc[A_if_result_i]\n",
    "df_AB_if = df_AB_if.iloc[AB_if_result_i]\n",
    "df_ABC_if = df_ABC_if.iloc[ABC_if_result_i]\n",
    "\n",
    "export_list = ['time', 'src_ip', 'dst_ip', 'src_port', 'dst_port', 'protocol', 'score']\n",
    "df_A_if = df_A_if[export_list]\n",
    "df_AB_if = df_AB_if[export_list]\n",
    "df_ABC_if = df_ABC_if[export_list]\n",
    "\n",
    "# sort the examples\n",
    "df_A_if_sort = df_A_if.sort_values(by=['src_ip', 'dst_ip', 'time'])\n",
    "df_AB_if_sort = df_AB_if.sort_values(by=['src_ip', 'dst_ip', 'time'])\n",
    "df_ABC_if_sort = df_ABC_if.sort_values(by=['src_ip', 'dst_ip', 'time'])\n",
    "\n",
    "df_A_if_sort['attack_type'] = 'None'\n",
    "df_AB_if_sort['attack_type'] = 'None'\n",
    "df_ABC_if_sort['attack_type'] = 'None'"
   ]
  },
  {
   "cell_type": "code",
   "execution_count": 244,
   "metadata": {},
   "outputs": [
    {
     "name": "stdout",
     "output_type": "stream",
     "text": [
      "A   0.8325863860434883 \n",
      "AB  0.5767489526448386 \n",
      "ABC 0.6402620878781984\n"
     ]
    }
   ],
   "source": [
    "# print out the results\n",
    "total = len(tst_)\n",
    "print(\"A  \", len(df_A_if_sort)/total ,\"\\nAB \" ,  len(df_AB_if_sort)/total , \"\\nABC\", len(df_ABC_if_sort)/total )\n"
   ]
  },
  {
   "cell_type": "code",
   "execution_count": 209,
   "metadata": {},
   "outputs": [],
   "source": [
    "# port scan\n",
    "df_A_if_sort.loc[(df_A_if_sort.protocol == 'udp') & (df_A_if_sort.dst_port == 53), 'attack_type'] = \"Port_Scan\"\n",
    "df_AB_if_sort.loc[(df_AB_if_sort.protocol == 'udp') & (df_AB_if_sort.dst_port == 53), 'attack_type'] = \"Port_Scan\"\n",
    "df_ABC_if_sort.loc[(df_ABC_if_sort.protocol == 'udp') & (df_ABC_if_sort.dst_port == 53), 'attack_type'] = \"Port_Scan\"\n",
    "\n",
    "# spam\n",
    "df_A_if_sort.loc[(df_A_if_sort.protocol == 'tcp') & (df_A_if_sort.dst_port == 25), 'attack_type'] = \"SPAM\"\n",
    "df_AB_if_sort.loc[(df_AB_if_sort.protocol == 'tcp') & (df_AB_if_sort.dst_port == 25), 'attack_type'] = \"SPAM\"\n",
    "df_ABC_if_sort.loc[(df_ABC_if_sort.protocol == 'tcp') & (df_ABC_if_sort.dst_port == 25), 'attack_type'] = \"SPAM\"\n",
    "\n",
    "# ddos\n",
    "df_A_if_sort.loc[(df_A_if_sort.protocol == 'icmp'), 'attack_type'] = \"icmp_DDoS\"\n",
    "df_AB_if_sort.loc[(df_AB_if_sort.protocol == 'icmp'), 'attack_type'] = \"icmp_DDoS\"\n",
    "df_ABC_if_sort.loc[(df_ABC_if_sort.protocol == 'icmp'), 'attack_type'] = \"icmp_DDoS\"\n",
    "\n",
    "# label unspecified attacks as other\n",
    "df_A_if_sort.loc[ df_A_if_sort.attack_type== 'None' ,'attack_type'] = 'Other'\n",
    "df_AB_if_sort.loc[ df_AB_if_sort.attack_type== 'None' ,'attack_type'] = 'Other'\n",
    "df_ABC_if_sort.loc[ df_ABC_if_sort.attack_type== 'None','attack_type'] = 'Other'\n"
   ]
  },
  {
   "cell_type": "code",
   "execution_count": 210,
   "metadata": {},
   "outputs": [],
   "source": [
    "df_A_if_sort.to_csv(\"A_if_result.csv\", index = True, header = True)\n",
    "df_AB_if_sort.to_csv(\"AB_if_result.csv\", index = True, header = True)\n",
    "df_ABC_if_sort.to_csv(\"ABC_if_result.csv\", index = True, header = True)\n"
   ]
  },
  {
   "cell_type": "markdown",
   "metadata": {},
   "source": [
    "# Report of detected attacks "
   ]
  },
  {
   "cell_type": "code",
   "execution_count": 232,
   "metadata": {},
   "outputs": [
    {
     "name": "stdout",
     "output_type": "stream",
     "text": [
      "<< Summary of CBLOF>>\n",
      "thresholds\n",
      "A   1.4219399751271005 \n",
      "AB  1.8841197619802141 \n",
      "ABC 1.1018709495942407\n",
      "the number of events\n",
      "A   115027 \n",
      "AB  307275 \n",
      "ABC 279408\n",
      "the number of attackers\n",
      "A   249 \n",
      "AB  187 \n",
      "ABC 193\n",
      "the number of used src_port\n",
      "A   17873 \n",
      "AB  52353 \n",
      "ABC 50757\n",
      "the number of victims\n",
      "A   29613 \n",
      "AB  6781 \n",
      "ABC 1147\n",
      "the number of used dst_port\n",
      "A   2252 \n",
      "AB  876 \n",
      "ABC 323\n"
     ]
    }
   ],
   "source": [
    "print(\"<< Summary of CBLOF>>\")\n",
    "print(\"thresholds\")\n",
    "print(\"A  \", A_cblof_threshold ,\"\\nAB \" ,  AB_cblof_threshold, \"\\nABC\", ABC_cblof_thresholdf)\n",
    "print(\"the number of events\")\n",
    "print(\"A  \", len(df_A_cblof_sort) ,\"\\nAB \" ,  len(df_AB_cblof_sort), \"\\nABC\", len(df_ABC_cblof_sort))\n",
    "\n",
    "print(\"the number of attackers\")\n",
    "print(\"A  \", len(df_A_cblof_sort.src_ip.unique()) ,\"\\nAB \" ,  len(df_AB_cblof_sort.src_ip.unique()), \"\\nABC\", len(df_ABC_cblof_sort.src_ip.unique()))\n",
    "print(\"the number of used src_port\")\n",
    "print(\"A  \", len(df_A_cblof_sort.src_port.unique()) ,\"\\nAB \" ,  len(df_AB_cblof_sort.src_port.unique()), \"\\nABC\", len(df_ABC_cblof_sort.src_port.unique()))\n",
    "print(\"the number of victims\")\n",
    "print(\"A  \", len(df_A_cblof_sort.dst_ip.unique()) ,\"\\nAB \" ,  len(df_AB_cblof_sort.dst_ip.unique()), \"\\nABC\", len(df_ABC_cblof_sort.dst_ip.unique()))\n",
    "print(\"the number of used dst_port\")\n",
    "print(\"A  \", len(df_A_cblof_sort.dst_port.unique()) ,\"\\nAB \" ,  len(df_AB_cblof_sort.dst_port.unique()), \"\\nABC\", len(df_ABC_cblof_sort.dst_port.unique()))\n"
   ]
  },
  {
   "cell_type": "code",
   "execution_count": 233,
   "metadata": {},
   "outputs": [
    {
     "name": "stdout",
     "output_type": "stream",
     "text": [
      "0    188.132.90.159\n",
      "dtype: object\n",
      "0    192.31.93.182\n",
      "dtype: object\n",
      "0    192.31.93.182\n",
      "dtype: object\n",
      "Method A & CBLOF\n",
      "attack type ['Port_Scan' 'SPAM' 'Other']\n",
      "victim 1086\n",
      "total events 6569\n",
      "Method AB & CBLOF\n",
      "attack type ['Other' 'icmp_DDoS']\n",
      "victim 20\n",
      "total events 9952\n",
      "Method ABC & CBLOF\n",
      "attack type ['Other' 'icmp_DDoS']\n",
      "victim 30\n",
      "total events 10407\n"
     ]
    }
   ],
   "source": [
    "print(df_A_cblof_sort.src_ip.mode())\n",
    "print(df_AB_cblof_sort.src_ip.mode())\n",
    "print(df_ABC_cblof_sort.src_ip.mode())\n",
    "\n",
    "print(\"Method A & CBLOF\")\n",
    "print(\"attack type\", df_A_cblof_sort[df_A_cblof_sort.src_ip == '188.132.90.159'].attack_type.unique())\n",
    "print(\"victim\", len(df_A_cblof_sort[df_A_cblof_sort.src_ip == '188.132.90.159'].dst_ip.unique()))\n",
    "print(\"total events\", len(df_A_cblof_sort[df_A_cblof_sort.src_ip == '188.132.90.159']))\n",
    "\n",
    "print(\"Method AB & CBLOF\")\n",
    "print(\"attack type\", df_AB_cblof_sort[df_AB_cblof_sort.src_ip == '192.31.93.182'].attack_type.unique())\n",
    "print(\"victim\", len(df_AB_cblof_sort[df_AB_cblof_sort.src_ip == '192.31.93.182'].dst_ip.unique()))\n",
    "print(\"total events\", len(df_AB_cblof_sort[df_AB_cblof_sort.src_ip == '192.31.93.182']))\n",
    "\n",
    "print(\"Method ABC & CBLOF\")\n",
    "print(\"attack type\", df_ABC_cblof_sort[df_ABC_cblof_sort.src_ip == '192.31.93.182'].attack_type.unique())\n",
    "print(\"victim\", len(df_ABC_cblof_sort[df_ABC_cblof_sort.src_ip == '192.31.93.182'].dst_ip.unique()))\n",
    "print(\"total events\", len(df_ABC_cblof_sort[df_ABC_cblof_sort.src_ip == '192.31.93.182']))\n"
   ]
  },
  {
   "cell_type": "code",
   "execution_count": 235,
   "metadata": {},
   "outputs": [
    {
     "name": "stdout",
     "output_type": "stream",
     "text": [
      "<< Summary of IF>>\n",
      "the number of events\n",
      "A   877417 \n",
      "AB  607804 \n",
      "ABC 674737\n",
      "the number of attackers\n",
      "A   321 \n",
      "AB  325 \n",
      "ABC 325\n",
      "the number of used src_port\n",
      "A   63413 \n",
      "AB  54282 \n",
      "ABC 57150\n",
      "the number of victims\n",
      "A   86980 \n",
      "AB  108440 \n",
      "ABC 110248\n",
      "the number of used dst_port\n",
      "A   24455 \n",
      "AB  27631 \n",
      "ABC 27625\n"
     ]
    }
   ],
   "source": [
    "print(\"<< Summary of IF>>\")\n",
    "print(\"the number of events\")\n",
    "print(\"A  \", len(df_A_if_sort) ,\"\\nAB \" ,  len(df_AB_if_sort), \"\\nABC\", len(df_ABC_if_sort))\n",
    "\n",
    "print(\"the number of attackers\")\n",
    "print(\"A  \", len(df_A_if_sort.src_ip.unique()) ,\"\\nAB \" ,  len(df_AB_if_sort.src_ip.unique()), \"\\nABC\", len(df_ABC_if_sort.src_ip.unique()))\n",
    "print(\"the number of used src_port\")\n",
    "print(\"A  \", len(df_A_if_sort.src_port.unique()) ,\"\\nAB \" ,  len(df_AB_if_sort.src_port.unique()), \"\\nABC\", len(df_ABC_if_sort.src_port.unique()))\n",
    "print(\"the number of victims\")\n",
    "print(\"A  \", len(df_A_if_sort.dst_ip.unique()) ,\"\\nAB \" ,  len(df_AB_if_sort.dst_ip.unique()), \"\\nABC\", len(df_ABC_if_sort.dst_ip.unique()))\n",
    "print(\"the number of used dst_port\")\n",
    "print(\"A  \", len(df_A_if_sort.dst_port.unique()) ,\"\\nAB \" ,  len(df_AB_if_sort.dst_port.unique()), \"\\nABC\", len(df_ABC_if_sort.dst_port.unique()))\n"
   ]
  },
  {
   "cell_type": "code",
   "execution_count": 234,
   "metadata": {},
   "outputs": [
    {
     "name": "stdout",
     "output_type": "stream",
     "text": [
      "0    224.134.91.164\n",
      "dtype: object\n",
      "0    224.134.91.164\n",
      "dtype: object\n",
      "0    224.134.91.164\n",
      "dtype: object\n",
      "Method A & IF\n",
      "attack type ['Other' 'icmp_DDoS' 'Port_Scan']\n",
      "victim 888\n",
      "total events 136970\n",
      "Method AB & IF\n",
      "attack type ['Other' 'icmp_DDoS' 'Port_Scan']\n",
      "victim 956\n",
      "total events 150834\n",
      "Method ABC & IF\n",
      "attack type ['Other' 'icmp_DDoS' 'Port_Scan']\n",
      "victim 954\n",
      "total events 150787\n"
     ]
    }
   ],
   "source": [
    "print(df_A_if_sort.src_ip.mode())\n",
    "print(df_AB_if_sort.src_ip.mode())\n",
    "print(df_ABC_if_sort.src_ip.mode())\n",
    "\n",
    "print(\"Method A & IF\")\n",
    "print(\"attack type\", df_A_if_sort[df_A_if_sort.src_ip == '224.134.91.164'].attack_type.unique())\n",
    "print(\"victim\", len(df_A_if_sort[df_A_if_sort.src_ip == '224.134.91.164'].dst_ip.unique()))\n",
    "print(\"total events\", len(df_A_if_sort[df_A_if_sort.src_ip == '224.134.91.164']))\n",
    "\n",
    "print(\"Method AB & IF\")\n",
    "print(\"attack type\", df_AB_if_sort[df_AB_if_sort.src_ip == '224.134.91.164'].attack_type.unique())\n",
    "print(\"victim\", len(df_AB_if_sort[df_AB_if_sort.src_ip == '224.134.91.164'].dst_ip.unique()))\n",
    "print(\"total events\", len(df_AB_if_sort[df_AB_if_sort.src_ip == '224.134.91.164']))\n",
    "\n",
    "print(\"Method ABC & IF\")\n",
    "print(\"attack type\", df_ABC_if_sort[df_ABC_if_sort.src_ip == '224.134.91.164'].attack_type.unique())\n",
    "print(\"victim\", len(df_ABC_if_sort[df_ABC_if_sort.src_ip == '224.134.91.164'].dst_ip.unique()))\n",
    "print(\"total events\", len(df_ABC_if_sort[df_ABC_if_sort.src_ip == '224.134.91.164']))\n"
   ]
  },
  {
   "cell_type": "code",
   "execution_count": null,
   "metadata": {},
   "outputs": [],
   "source": []
  }
 ],
 "metadata": {
  "kernelspec": {
   "display_name": "Python 3",
   "language": "python",
   "name": "python3"
  },
  "language_info": {
   "codemirror_mode": {
    "name": "ipython",
    "version": 3
   },
   "file_extension": ".py",
   "mimetype": "text/x-python",
   "name": "python",
   "nbconvert_exporter": "python",
   "pygments_lexer": "ipython3",
   "version": "3.8.3"
  }
 },
 "nbformat": 4,
 "nbformat_minor": 4
}
